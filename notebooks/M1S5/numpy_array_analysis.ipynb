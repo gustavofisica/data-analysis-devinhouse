{
 "cells": [
  {
   "cell_type": "markdown",
   "id": "4b71c024",
   "metadata": {},
   "source": [
    "# [M1S05] Ex. 04 - Análise Numérica com NumPy\n",
    "\n",
    "Utilize NumPy para cálculos e simulações com arrays."
   ]
  },
  {
   "cell_type": "markdown",
   "id": "4bbb59d4",
   "metadata": {},
   "source": [
    "## Importando NumPy\n",
    "\n",
    "Primeiro, importamos a biblioteca NumPy, que será utilizada para cálculos e manipulação de arrays numéricos."
   ]
  },
  {
   "cell_type": "code",
   "execution_count": 1,
   "id": "c8e18500",
   "metadata": {},
   "outputs": [],
   "source": [
    "import numpy as np"
   ]
  },
  {
   "cell_type": "markdown",
   "id": "8b7edf23",
   "metadata": {},
   "source": [
    "## Criando array com valores dos pedidos\n",
    "\n",
    "Utilizamos NumPy para ler o arquivo de pedidos e extrair o array com os valores totais de cada pedido."
   ]
  },
  {
   "cell_type": "code",
   "execution_count": 5,
   "id": "3f13881b",
   "metadata": {},
   "outputs": [
    {
     "data": {
      "text/plain": [
       "array([ 320.5,  780. ,  150. ,  540.9,  220. ,  980. ,  430. , 1200. ,\n",
       "        310. ,  150. ])"
      ]
     },
     "execution_count": 5,
     "metadata": {},
     "output_type": "execute_result"
    }
   ],
   "source": [
    "pedidos = np.genfromtxt('data/pedidos.csv', delimiter=',',  dtype=None, names=True, encoding='UTF-8')\n",
    "valores = pedidos['valor_total']\n",
    "valores"
   ]
  },
  {
   "cell_type": "markdown",
   "id": "82ce55d1",
   "metadata": {},
   "source": [
    "## Calculando média, soma e desvio padrão\n",
    "\n",
    "Com o array de valores, calculamos a média, soma e desvio padrão dos pedidos utilizando funções do NumPy."
   ]
  },
  {
   "cell_type": "code",
   "execution_count": 8,
   "id": "bc48c5ac",
   "metadata": {},
   "outputs": [
    {
     "data": {
      "text/plain": [
       "np.float64(508.14)"
      ]
     },
     "execution_count": 8,
     "metadata": {},
     "output_type": "execute_result"
    }
   ],
   "source": [
    "media = np.mean(valores)\n",
    "media"
   ]
  },
  {
   "cell_type": "code",
   "execution_count": 9,
   "id": "3c1b67a5",
   "metadata": {},
   "outputs": [
    {
     "data": {
      "text/plain": [
       "np.float64(5081.4)"
      ]
     },
     "execution_count": 9,
     "metadata": {},
     "output_type": "execute_result"
    }
   ],
   "source": [
    "soma = np.sum(valores)\n",
    "soma"
   ]
  },
  {
   "cell_type": "code",
   "execution_count": 10,
   "id": "08a600ff",
   "metadata": {},
   "outputs": [
    {
     "data": {
      "text/plain": [
       "np.float64(345.89455965655196)"
      ]
     },
     "execution_count": 10,
     "metadata": {},
     "output_type": "execute_result"
    }
   ],
   "source": [
    "std = np.std(valores)\n",
    "std"
   ]
  },
  {
   "cell_type": "markdown",
   "id": "c390b8ab",
   "metadata": {},
   "source": [
    "## Aplicando desconto com broadcasting\n",
    "\n",
    "Utilizamos o recurso de broadcasting do NumPy para aplicar 10% de desconto em todos os valores do array de pedidos de forma eficiente."
   ]
  },
  {
   "cell_type": "code",
   "execution_count": 11,
   "id": "9dc6c529",
   "metadata": {},
   "outputs": [
    {
     "data": {
      "text/plain": [
       "array([ 288.45,  702.  ,  135.  ,  486.81,  198.  ,  882.  ,  387.  ,\n",
       "       1080.  ,  279.  ,  135.  ])"
      ]
     },
     "execution_count": 11,
     "metadata": {},
     "output_type": "execute_result"
    }
   ],
   "source": [
    "valores_com_desconto = valores * 0.9\n",
    "valores_com_desconto"
   ]
  },
  {
   "cell_type": "markdown",
   "id": "37054ab0",
   "metadata": {},
   "source": [
    "## Verificando tipos e dimensões\n",
    "\n",
    "Por fim, verificamos o tipo dos dados do array com `dtype` e suas dimensões com `shape`, garantindo que os dados estejam corretos para análise."
   ]
  },
  {
   "cell_type": "code",
   "execution_count": 12,
   "id": "b990a682",
   "metadata": {},
   "outputs": [
    {
     "data": {
      "text/plain": [
       "dtype('float64')"
      ]
     },
     "execution_count": 12,
     "metadata": {},
     "output_type": "execute_result"
    }
   ],
   "source": [
    "valores_com_desconto.dtype"
   ]
  },
  {
   "cell_type": "code",
   "execution_count": 14,
   "id": "8e594bc5",
   "metadata": {},
   "outputs": [
    {
     "data": {
      "text/plain": [
       "(10,)"
      ]
     },
     "execution_count": 14,
     "metadata": {},
     "output_type": "execute_result"
    }
   ],
   "source": [
    "pedidos.shape"
   ]
  }
 ],
 "metadata": {
  "kernelspec": {
   "display_name": ".venv",
   "language": "python",
   "name": "python3"
  },
  "language_info": {
   "codemirror_mode": {
    "name": "ipython",
    "version": 3
   },
   "file_extension": ".py",
   "mimetype": "text/x-python",
   "name": "python",
   "nbconvert_exporter": "python",
   "pygments_lexer": "ipython3",
   "version": "3.14.0"
  }
 },
 "nbformat": 4,
 "nbformat_minor": 5
}
