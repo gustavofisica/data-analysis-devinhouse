{
  "cells": [
    {
      "cell_type": "markdown",
      "metadata": {
        "id": "i3YiOTv7WXHp"
      },
      "source": [
        "# [M1S05] Ex. 01 - Leitura e Estruturação dos Dados (Pandas)\n",
        "\n",
        "Importe os arquivos clientes.csv, pedidos.csv e produtos.csv usando Pandas. Explore os dados para entender sua estrutura.\n",
        "\n",
        "Entrega: todo o desenvolvimento da prática deve ser realizado no Notebook Jupyter (local ou online), sendo anexado no card a entrega descrição."
      ]
    },
    {
      "cell_type": "code",
      "execution_count": 1,
      "metadata": {
        "id": "rhrDuHyJWVMC"
      },
      "outputs": [],
      "source": [
        "import pandas as pd\n",
        "import numpy as np"
      ]
    },
    {
      "cell_type": "code",
      "execution_count": 2,
      "metadata": {
        "id": "VomIK8uMWkMF"
      },
      "outputs": [],
      "source": [
        "clientes_df = pd.read_csv('../../data/clientes.csv')\n",
        "pedidos_df = pd.read_csv('../../data/pedidos.csv')\n",
        "produtos_df = pd.read_csv('../../data/produtos.csv')"
      ]
    },
    {
      "cell_type": "markdown",
      "metadata": {
        "id": "zwd1bLWpXTjP"
      },
      "source": [
        "## Visualizando dados"
      ]
    },
    {
      "cell_type": "code",
      "execution_count": 3,
      "metadata": {
        "colab": {
          "base_uri": "https://localhost:8080/",
          "height": 206
        },
        "id": "6NafE6myXCxS",
        "outputId": "629d21c6-cf3c-4bae-b148-4f53e6e06388"
      },
      "outputs": [
        {
          "data": {
            "text/html": [
              "<div>\n",
              "<style scoped>\n",
              "    .dataframe tbody tr th:only-of-type {\n",
              "        vertical-align: middle;\n",
              "    }\n",
              "\n",
              "    .dataframe tbody tr th {\n",
              "        vertical-align: top;\n",
              "    }\n",
              "\n",
              "    .dataframe thead th {\n",
              "        text-align: right;\n",
              "    }\n",
              "</style>\n",
              "<table border=\"1\" class=\"dataframe\">\n",
              "  <thead>\n",
              "    <tr style=\"text-align: right;\">\n",
              "      <th></th>\n",
              "      <th>id_cliente</th>\n",
              "      <th>nome</th>\n",
              "      <th>idade</th>\n",
              "      <th>cidade</th>\n",
              "    </tr>\n",
              "  </thead>\n",
              "  <tbody>\n",
              "    <tr>\n",
              "      <th>0</th>\n",
              "      <td>1</td>\n",
              "      <td>Ana Souza</td>\n",
              "      <td>28</td>\n",
              "      <td>Fortaleza</td>\n",
              "    </tr>\n",
              "    <tr>\n",
              "      <th>1</th>\n",
              "      <td>2</td>\n",
              "      <td>Carlos Lima</td>\n",
              "      <td>35</td>\n",
              "      <td>Recife</td>\n",
              "    </tr>\n",
              "    <tr>\n",
              "      <th>2</th>\n",
              "      <td>3</td>\n",
              "      <td>Mariana Alves</td>\n",
              "      <td>42</td>\n",
              "      <td>Salvador</td>\n",
              "    </tr>\n",
              "    <tr>\n",
              "      <th>3</th>\n",
              "      <td>4</td>\n",
              "      <td>João Pereira</td>\n",
              "      <td>31</td>\n",
              "      <td>Belo Horizonte</td>\n",
              "    </tr>\n",
              "    <tr>\n",
              "      <th>4</th>\n",
              "      <td>5</td>\n",
              "      <td>Luciana Costa</td>\n",
              "      <td>25</td>\n",
              "      <td>São Paulo</td>\n",
              "    </tr>\n",
              "  </tbody>\n",
              "</table>\n",
              "</div>"
            ],
            "text/plain": [
              "   id_cliente           nome  idade          cidade\n",
              "0           1      Ana Souza     28       Fortaleza\n",
              "1           2    Carlos Lima     35          Recife\n",
              "2           3  Mariana Alves     42        Salvador\n",
              "3           4   João Pereira     31  Belo Horizonte\n",
              "4           5  Luciana Costa     25       São Paulo"
            ]
          },
          "execution_count": 3,
          "metadata": {},
          "output_type": "execute_result"
        }
      ],
      "source": [
        "clientes_df.head()"
      ]
    },
    {
      "cell_type": "markdown",
      "metadata": {
        "id": "_LowrScrbgvD"
      },
      "source": [
        "Vemos com a operação `head()` que os dados em clientes.csv estão distribuídos nas seguintes colunas:\n",
        "\n",
        "- id_cliente: identificador único do cliente\n",
        "- nome: nome do cliente\n",
        "- idade: idade do cliente\n",
        "- cidade: cidade de residência do cliente"
      ]
    },
    {
      "cell_type": "code",
      "execution_count": 4,
      "metadata": {
        "colab": {
          "base_uri": "https://localhost:8080/",
          "height": 206
        },
        "id": "IViSExzZZUb-",
        "outputId": "7c770339-7034-45a6-9e3e-3ff8905900b0"
      },
      "outputs": [
        {
          "data": {
            "text/html": [
              "<div>\n",
              "<style scoped>\n",
              "    .dataframe tbody tr th:only-of-type {\n",
              "        vertical-align: middle;\n",
              "    }\n",
              "\n",
              "    .dataframe tbody tr th {\n",
              "        vertical-align: top;\n",
              "    }\n",
              "\n",
              "    .dataframe thead th {\n",
              "        text-align: right;\n",
              "    }\n",
              "</style>\n",
              "<table border=\"1\" class=\"dataframe\">\n",
              "  <thead>\n",
              "    <tr style=\"text-align: right;\">\n",
              "      <th></th>\n",
              "      <th>id_pedido</th>\n",
              "      <th>id_cliente</th>\n",
              "      <th>data_pedido</th>\n",
              "      <th>valor_total</th>\n",
              "    </tr>\n",
              "  </thead>\n",
              "  <tbody>\n",
              "    <tr>\n",
              "      <th>0</th>\n",
              "      <td>101</td>\n",
              "      <td>1</td>\n",
              "      <td>2025-09-01</td>\n",
              "      <td>320.5</td>\n",
              "    </tr>\n",
              "    <tr>\n",
              "      <th>1</th>\n",
              "      <td>102</td>\n",
              "      <td>2</td>\n",
              "      <td>2025-09-03</td>\n",
              "      <td>780.0</td>\n",
              "    </tr>\n",
              "    <tr>\n",
              "      <th>2</th>\n",
              "      <td>103</td>\n",
              "      <td>3</td>\n",
              "      <td>2025-09-05</td>\n",
              "      <td>150.0</td>\n",
              "    </tr>\n",
              "    <tr>\n",
              "      <th>3</th>\n",
              "      <td>104</td>\n",
              "      <td>4</td>\n",
              "      <td>2025-09-07</td>\n",
              "      <td>540.9</td>\n",
              "    </tr>\n",
              "    <tr>\n",
              "      <th>4</th>\n",
              "      <td>105</td>\n",
              "      <td>5</td>\n",
              "      <td>2025-09-10</td>\n",
              "      <td>220.0</td>\n",
              "    </tr>\n",
              "  </tbody>\n",
              "</table>\n",
              "</div>"
            ],
            "text/plain": [
              "   id_pedido  id_cliente data_pedido  valor_total\n",
              "0        101           1  2025-09-01        320.5\n",
              "1        102           2  2025-09-03        780.0\n",
              "2        103           3  2025-09-05        150.0\n",
              "3        104           4  2025-09-07        540.9\n",
              "4        105           5  2025-09-10        220.0"
            ]
          },
          "execution_count": 4,
          "metadata": {},
          "output_type": "execute_result"
        }
      ],
      "source": [
        "pedidos_df.head()"
      ]
    },
    {
      "cell_type": "markdown",
      "metadata": {
        "id": "zn03j14rcGHY"
      },
      "source": [
        "Já nos dados obtidos em pedidos.csv, trouxemos os seguintes dados:\n",
        "\n",
        "- id_pedido: indentificador único do pedido\n",
        "- id_cliente: indentificador único do cliente (comunicando-se com os dados anteriores em clientes.csv)\n",
        "- data_pedido: data de realização do pedido\n",
        "- valor_total: valor da compra efetuada pelo cliente num determinado pedido"
      ]
    },
    {
      "cell_type": "code",
      "execution_count": 5,
      "metadata": {
        "colab": {
          "base_uri": "https://localhost:8080/",
          "height": 206
        },
        "id": "OnR6k3CJZ16C",
        "outputId": "9ca40d8d-25f0-4bac-e961-121374b58a45"
      },
      "outputs": [
        {
          "data": {
            "text/html": [
              "<div>\n",
              "<style scoped>\n",
              "    .dataframe tbody tr th:only-of-type {\n",
              "        vertical-align: middle;\n",
              "    }\n",
              "\n",
              "    .dataframe tbody tr th {\n",
              "        vertical-align: top;\n",
              "    }\n",
              "\n",
              "    .dataframe thead th {\n",
              "        text-align: right;\n",
              "    }\n",
              "</style>\n",
              "<table border=\"1\" class=\"dataframe\">\n",
              "  <thead>\n",
              "    <tr style=\"text-align: right;\">\n",
              "      <th></th>\n",
              "      <th>id_produto</th>\n",
              "      <th>nome</th>\n",
              "      <th>categoria</th>\n",
              "      <th>preco</th>\n",
              "    </tr>\n",
              "  </thead>\n",
              "  <tbody>\n",
              "    <tr>\n",
              "      <th>0</th>\n",
              "      <td>201</td>\n",
              "      <td>Fone Bluetooth</td>\n",
              "      <td>Eletrônicos</td>\n",
              "      <td>199.9</td>\n",
              "    </tr>\n",
              "    <tr>\n",
              "      <th>1</th>\n",
              "      <td>202</td>\n",
              "      <td>Notebook Gamer</td>\n",
              "      <td>Eletrônicos</td>\n",
              "      <td>4999.0</td>\n",
              "    </tr>\n",
              "    <tr>\n",
              "      <th>2</th>\n",
              "      <td>203</td>\n",
              "      <td>Livro Python</td>\n",
              "      <td>Livros</td>\n",
              "      <td>89.9</td>\n",
              "    </tr>\n",
              "    <tr>\n",
              "      <th>3</th>\n",
              "      <td>204</td>\n",
              "      <td>Cadeira Gamer</td>\n",
              "      <td>Móveis</td>\n",
              "      <td>799.0</td>\n",
              "    </tr>\n",
              "    <tr>\n",
              "      <th>4</th>\n",
              "      <td>205</td>\n",
              "      <td>Smartphone</td>\n",
              "      <td>Eletrônicos</td>\n",
              "      <td>2999.0</td>\n",
              "    </tr>\n",
              "  </tbody>\n",
              "</table>\n",
              "</div>"
            ],
            "text/plain": [
              "   id_produto            nome    categoria   preco\n",
              "0         201  Fone Bluetooth  Eletrônicos   199.9\n",
              "1         202  Notebook Gamer  Eletrônicos  4999.0\n",
              "2         203    Livro Python       Livros    89.9\n",
              "3         204   Cadeira Gamer       Móveis   799.0\n",
              "4         205      Smartphone  Eletrônicos  2999.0"
            ]
          },
          "execution_count": 5,
          "metadata": {},
          "output_type": "execute_result"
        }
      ],
      "source": [
        "produtos_df.head()"
      ]
    },
    {
      "cell_type": "markdown",
      "metadata": {
        "id": "0K3j11WZcnr3"
      },
      "source": [
        "Por fim, os dados de produtos.csv trazem:\n",
        "\n",
        "- id_produto: identificador único do produtdo no conjunto de dados da loja\n",
        "- nome: nome do produto\n",
        "- categoria: conjunto categórico do produto\n",
        "- preco: valor unitário do produto em reais (R$)"
      ]
    },
    {
      "cell_type": "markdown",
      "metadata": {
        "id": "SxPWLxs4Z_vN"
      },
      "source": [
        "## Verificar tipos e nulos"
      ]
    },
    {
      "cell_type": "code",
      "execution_count": 6,
      "metadata": {
        "colab": {
          "base_uri": "https://localhost:8080/"
        },
        "id": "XjY0qAFiZ_Fb",
        "outputId": "90584182-9740-4f05-a0fa-faed29e20a5a"
      },
      "outputs": [
        {
          "name": "stdout",
          "output_type": "stream",
          "text": [
            "<class 'pandas.core.frame.DataFrame'>\n",
            "RangeIndex: 10 entries, 0 to 9\n",
            "Data columns (total 4 columns):\n",
            " #   Column      Non-Null Count  Dtype \n",
            "---  ------      --------------  ----- \n",
            " 0   id_cliente  10 non-null     int64 \n",
            " 1   nome        10 non-null     object\n",
            " 2   idade       10 non-null     int64 \n",
            " 3   cidade      10 non-null     object\n",
            "dtypes: int64(2), object(2)\n",
            "memory usage: 452.0+ bytes\n"
          ]
        }
      ],
      "source": [
        "clientes_df.info()"
      ]
    },
    {
      "cell_type": "markdown",
      "metadata": {
        "id": "p_yh6zAAdISI"
      },
      "source": [
        "Com o método `info()` no conjunto de dados dos clientes, podemos aferir que há dados de valores númericos inteiros (id_cliente e idade) e dados qualitativos (nome e cidade). Temos dentro da tabela 10 registros e nenhum deles aparecem como nulas, como o método `isnull().sum()` abaixo evidencia."
      ]
    },
    {
      "cell_type": "code",
      "execution_count": 7,
      "metadata": {
        "colab": {
          "base_uri": "https://localhost:8080/",
          "height": 210
        },
        "id": "Rw9hNBXfaMGe",
        "outputId": "1c23484b-bb9e-4a44-e8a1-e3db6e99422f"
      },
      "outputs": [
        {
          "data": {
            "text/plain": [
              "id_cliente    0\n",
              "nome          0\n",
              "idade         0\n",
              "cidade        0\n",
              "dtype: int64"
            ]
          },
          "execution_count": 7,
          "metadata": {},
          "output_type": "execute_result"
        }
      ],
      "source": [
        "clientes_df.isnull().sum()"
      ]
    },
    {
      "cell_type": "code",
      "execution_count": 8,
      "metadata": {
        "colab": {
          "base_uri": "https://localhost:8080/"
        },
        "id": "j4WKK7ktaQle",
        "outputId": "7424fc75-76a0-43cf-da18-60ab322c7c22"
      },
      "outputs": [
        {
          "name": "stdout",
          "output_type": "stream",
          "text": [
            "<class 'pandas.core.frame.DataFrame'>\n",
            "RangeIndex: 10 entries, 0 to 9\n",
            "Data columns (total 4 columns):\n",
            " #   Column       Non-Null Count  Dtype  \n",
            "---  ------       --------------  -----  \n",
            " 0   id_pedido    10 non-null     int64  \n",
            " 1   id_cliente   10 non-null     int64  \n",
            " 2   data_pedido  10 non-null     object \n",
            " 3   valor_total  10 non-null     float64\n",
            "dtypes: float64(1), int64(2), object(1)\n",
            "memory usage: 452.0+ bytes\n"
          ]
        }
      ],
      "source": [
        "pedidos_df.info()"
      ]
    },
    {
      "cell_type": "markdown",
      "metadata": {
        "id": "2fYQXiyreCFM"
      },
      "source": [
        "Quanto aos dados de pedidos, também obtivemos 10 registros e nenhum nulo, confimado abaixo. Desta vez, além dos dados númericos discretos (id_pedido e id_cliente) também tivemos o dado numérico contínuo (valor_total) e, apesar de ser passado como strig, data_pedido deve ser transformado em um datetime para melhores maniulações futuras."
      ]
    },
    {
      "cell_type": "code",
      "execution_count": 9,
      "metadata": {
        "colab": {
          "base_uri": "https://localhost:8080/",
          "height": 210
        },
        "id": "HIDMt9A8a1Gr",
        "outputId": "57a39cff-1f08-4c20-9f75-59082078833e"
      },
      "outputs": [
        {
          "data": {
            "text/plain": [
              "id_pedido      0\n",
              "id_cliente     0\n",
              "data_pedido    0\n",
              "valor_total    0\n",
              "dtype: int64"
            ]
          },
          "execution_count": 9,
          "metadata": {},
          "output_type": "execute_result"
        }
      ],
      "source": [
        "pedidos_df.isnull().sum()"
      ]
    },
    {
      "cell_type": "code",
      "execution_count": 10,
      "metadata": {
        "colab": {
          "base_uri": "https://localhost:8080/"
        },
        "id": "93Mxox0wa4jj",
        "outputId": "948ae7a8-4a86-4b1b-afaf-32325ae07bd9"
      },
      "outputs": [
        {
          "name": "stdout",
          "output_type": "stream",
          "text": [
            "<class 'pandas.core.frame.DataFrame'>\n",
            "RangeIndex: 10 entries, 0 to 9\n",
            "Data columns (total 4 columns):\n",
            " #   Column      Non-Null Count  Dtype  \n",
            "---  ------      --------------  -----  \n",
            " 0   id_produto  10 non-null     int64  \n",
            " 1   nome        10 non-null     object \n",
            " 2   categoria   10 non-null     object \n",
            " 3   preco       10 non-null     float64\n",
            "dtypes: float64(1), int64(1), object(2)\n",
            "memory usage: 452.0+ bytes\n"
          ]
        }
      ],
      "source": [
        "produtos_df.info()"
      ]
    },
    {
      "cell_type": "markdown",
      "metadata": {
        "id": "JR1WeLOleekq"
      },
      "source": [
        "Por fim, obtivemos também 10 registros não nulos, com valores numéricos discretos (id_produto) e contínuo (preco). Outros dois dados categóricos foram passados (nome e categoria)."
      ]
    },
    {
      "cell_type": "code",
      "execution_count": 11,
      "metadata": {
        "colab": {
          "base_uri": "https://localhost:8080/",
          "height": 210
        },
        "id": "Ci0rGQOdbIKW",
        "outputId": "6f8d4133-c928-411d-fbeb-d751f1c095d0"
      },
      "outputs": [
        {
          "data": {
            "text/plain": [
              "id_produto    0\n",
              "nome          0\n",
              "categoria     0\n",
              "preco         0\n",
              "dtype: int64"
            ]
          },
          "execution_count": 11,
          "metadata": {},
          "output_type": "execute_result"
        }
      ],
      "source": [
        "produtos_df.isnull().sum()"
      ]
    },
    {
      "cell_type": "markdown",
      "metadata": {
        "id": "eAak_FEgbSjT"
      },
      "source": [
        "## Estatísticas"
      ]
    },
    {
      "cell_type": "code",
      "execution_count": 12,
      "metadata": {
        "colab": {
          "base_uri": "https://localhost:8080/",
          "height": 300
        },
        "id": "Z0ZBtocibLEe",
        "outputId": "2c25aab8-7892-41ab-acb4-afedc1638571"
      },
      "outputs": [
        {
          "data": {
            "text/html": [
              "<div>\n",
              "<style scoped>\n",
              "    .dataframe tbody tr th:only-of-type {\n",
              "        vertical-align: middle;\n",
              "    }\n",
              "\n",
              "    .dataframe tbody tr th {\n",
              "        vertical-align: top;\n",
              "    }\n",
              "\n",
              "    .dataframe thead th {\n",
              "        text-align: right;\n",
              "    }\n",
              "</style>\n",
              "<table border=\"1\" class=\"dataframe\">\n",
              "  <thead>\n",
              "    <tr style=\"text-align: right;\">\n",
              "      <th></th>\n",
              "      <th>id_cliente</th>\n",
              "      <th>idade</th>\n",
              "    </tr>\n",
              "  </thead>\n",
              "  <tbody>\n",
              "    <tr>\n",
              "      <th>count</th>\n",
              "      <td>10.00000</td>\n",
              "      <td>10.000000</td>\n",
              "    </tr>\n",
              "    <tr>\n",
              "      <th>mean</th>\n",
              "      <td>5.50000</td>\n",
              "      <td>33.300000</td>\n",
              "    </tr>\n",
              "    <tr>\n",
              "      <th>std</th>\n",
              "      <td>3.02765</td>\n",
              "      <td>6.650814</td>\n",
              "    </tr>\n",
              "    <tr>\n",
              "      <th>min</th>\n",
              "      <td>1.00000</td>\n",
              "      <td>25.000000</td>\n",
              "    </tr>\n",
              "    <tr>\n",
              "      <th>25%</th>\n",
              "      <td>3.25000</td>\n",
              "      <td>28.250000</td>\n",
              "    </tr>\n",
              "    <tr>\n",
              "      <th>50%</th>\n",
              "      <td>5.50000</td>\n",
              "      <td>32.000000</td>\n",
              "    </tr>\n",
              "    <tr>\n",
              "      <th>75%</th>\n",
              "      <td>7.75000</td>\n",
              "      <td>37.250000</td>\n",
              "    </tr>\n",
              "    <tr>\n",
              "      <th>max</th>\n",
              "      <td>10.00000</td>\n",
              "      <td>45.000000</td>\n",
              "    </tr>\n",
              "  </tbody>\n",
              "</table>\n",
              "</div>"
            ],
            "text/plain": [
              "       id_cliente      idade\n",
              "count    10.00000  10.000000\n",
              "mean      5.50000  33.300000\n",
              "std       3.02765   6.650814\n",
              "min       1.00000  25.000000\n",
              "25%       3.25000  28.250000\n",
              "50%       5.50000  32.000000\n",
              "75%       7.75000  37.250000\n",
              "max      10.00000  45.000000"
            ]
          },
          "execution_count": 12,
          "metadata": {},
          "output_type": "execute_result"
        }
      ],
      "source": [
        "clientes_df.describe()"
      ]
    },
    {
      "cell_type": "markdown",
      "metadata": {
        "id": "mBbsbGSUfsIM"
      },
      "source": [
        "As estatísticas sugerem, ignorando o identificador dos clientes, que a média de idade nos registro é de 32 anos, ainda que a maior parte deles se aproximem dos 33 anos. A maior idade nos clientes aparece como 45 anos e a menor idade como 25."
      ]
    },
    {
      "cell_type": "code",
      "execution_count": 13,
      "metadata": {
        "colab": {
          "base_uri": "https://localhost:8080/",
          "height": 300
        },
        "id": "gKEIUgtLbZEZ",
        "outputId": "9e34d540-b3e9-4dbb-efc5-2480f968a126"
      },
      "outputs": [
        {
          "data": {
            "text/html": [
              "<div>\n",
              "<style scoped>\n",
              "    .dataframe tbody tr th:only-of-type {\n",
              "        vertical-align: middle;\n",
              "    }\n",
              "\n",
              "    .dataframe tbody tr th {\n",
              "        vertical-align: top;\n",
              "    }\n",
              "\n",
              "    .dataframe thead th {\n",
              "        text-align: right;\n",
              "    }\n",
              "</style>\n",
              "<table border=\"1\" class=\"dataframe\">\n",
              "  <thead>\n",
              "    <tr style=\"text-align: right;\">\n",
              "      <th></th>\n",
              "      <th>id_pedido</th>\n",
              "      <th>id_cliente</th>\n",
              "      <th>valor_total</th>\n",
              "    </tr>\n",
              "  </thead>\n",
              "  <tbody>\n",
              "    <tr>\n",
              "      <th>count</th>\n",
              "      <td>10.00000</td>\n",
              "      <td>10.00000</td>\n",
              "      <td>10.00000</td>\n",
              "    </tr>\n",
              "    <tr>\n",
              "      <th>mean</th>\n",
              "      <td>105.50000</td>\n",
              "      <td>5.50000</td>\n",
              "      <td>508.14000</td>\n",
              "    </tr>\n",
              "    <tr>\n",
              "      <th>std</th>\n",
              "      <td>3.02765</td>\n",
              "      <td>3.02765</td>\n",
              "      <td>364.60488</td>\n",
              "    </tr>\n",
              "    <tr>\n",
              "      <th>min</th>\n",
              "      <td>101.00000</td>\n",
              "      <td>1.00000</td>\n",
              "      <td>150.00000</td>\n",
              "    </tr>\n",
              "    <tr>\n",
              "      <th>25%</th>\n",
              "      <td>103.25000</td>\n",
              "      <td>3.25000</td>\n",
              "      <td>242.50000</td>\n",
              "    </tr>\n",
              "    <tr>\n",
              "      <th>50%</th>\n",
              "      <td>105.50000</td>\n",
              "      <td>5.50000</td>\n",
              "      <td>375.25000</td>\n",
              "    </tr>\n",
              "    <tr>\n",
              "      <th>75%</th>\n",
              "      <td>107.75000</td>\n",
              "      <td>7.75000</td>\n",
              "      <td>720.22500</td>\n",
              "    </tr>\n",
              "    <tr>\n",
              "      <th>max</th>\n",
              "      <td>110.00000</td>\n",
              "      <td>10.00000</td>\n",
              "      <td>1200.00000</td>\n",
              "    </tr>\n",
              "  </tbody>\n",
              "</table>\n",
              "</div>"
            ],
            "text/plain": [
              "       id_pedido  id_cliente  valor_total\n",
              "count   10.00000    10.00000     10.00000\n",
              "mean   105.50000     5.50000    508.14000\n",
              "std      3.02765     3.02765    364.60488\n",
              "min    101.00000     1.00000    150.00000\n",
              "25%    103.25000     3.25000    242.50000\n",
              "50%    105.50000     5.50000    375.25000\n",
              "75%    107.75000     7.75000    720.22500\n",
              "max    110.00000    10.00000   1200.00000"
            ]
          },
          "execution_count": 13,
          "metadata": {},
          "output_type": "execute_result"
        }
      ],
      "source": [
        "pedidos_df.describe()"
      ]
    },
    {
      "cell_type": "markdown",
      "metadata": {
        "id": "EV7xYcbTgT0U"
      },
      "source": [
        "Sobre os pedidos, o valor médido gasto pelos clientes é de R\\$ 375,25. Variando entre R\\$ 150,00 a R$ 1200,00. Os clientes costumam fazer pedidos próximos de R\\$ 508,14 na maior parte das vezes."
      ]
    },
    {
      "cell_type": "code",
      "execution_count": 14,
      "metadata": {
        "colab": {
          "base_uri": "https://localhost:8080/",
          "height": 300
        },
        "id": "WgySsd6qba4B",
        "outputId": "b1c736a3-3859-41ac-8706-e030f5320e4e"
      },
      "outputs": [
        {
          "data": {
            "text/html": [
              "<div>\n",
              "<style scoped>\n",
              "    .dataframe tbody tr th:only-of-type {\n",
              "        vertical-align: middle;\n",
              "    }\n",
              "\n",
              "    .dataframe tbody tr th {\n",
              "        vertical-align: top;\n",
              "    }\n",
              "\n",
              "    .dataframe thead th {\n",
              "        text-align: right;\n",
              "    }\n",
              "</style>\n",
              "<table border=\"1\" class=\"dataframe\">\n",
              "  <thead>\n",
              "    <tr style=\"text-align: right;\">\n",
              "      <th></th>\n",
              "      <th>id_produto</th>\n",
              "      <th>preco</th>\n",
              "    </tr>\n",
              "  </thead>\n",
              "  <tbody>\n",
              "    <tr>\n",
              "      <th>count</th>\n",
              "      <td>10.00000</td>\n",
              "      <td>10.000000</td>\n",
              "    </tr>\n",
              "    <tr>\n",
              "      <th>mean</th>\n",
              "      <td>205.50000</td>\n",
              "      <td>974.630000</td>\n",
              "    </tr>\n",
              "    <tr>\n",
              "      <th>std</th>\n",
              "      <td>3.02765</td>\n",
              "      <td>1677.374824</td>\n",
              "    </tr>\n",
              "    <tr>\n",
              "      <th>min</th>\n",
              "      <td>201.00000</td>\n",
              "      <td>39.900000</td>\n",
              "    </tr>\n",
              "    <tr>\n",
              "      <th>25%</th>\n",
              "      <td>203.25000</td>\n",
              "      <td>82.400000</td>\n",
              "    </tr>\n",
              "    <tr>\n",
              "      <th>50%</th>\n",
              "      <td>205.50000</td>\n",
              "      <td>164.900000</td>\n",
              "    </tr>\n",
              "    <tr>\n",
              "      <th>75%</th>\n",
              "      <td>207.75000</td>\n",
              "      <td>686.725000</td>\n",
              "    </tr>\n",
              "    <tr>\n",
              "      <th>max</th>\n",
              "      <td>210.00000</td>\n",
              "      <td>4999.000000</td>\n",
              "    </tr>\n",
              "  </tbody>\n",
              "</table>\n",
              "</div>"
            ],
            "text/plain": [
              "       id_produto        preco\n",
              "count    10.00000    10.000000\n",
              "mean    205.50000   974.630000\n",
              "std       3.02765  1677.374824\n",
              "min     201.00000    39.900000\n",
              "25%     203.25000    82.400000\n",
              "50%     205.50000   164.900000\n",
              "75%     207.75000   686.725000\n",
              "max     210.00000  4999.000000"
            ]
          },
          "execution_count": 14,
          "metadata": {},
          "output_type": "execute_result"
        }
      ],
      "source": [
        "produtos_df.describe()"
      ]
    },
    {
      "cell_type": "markdown",
      "metadata": {
        "id": "_fRHi3XFhOIA"
      },
      "source": [
        "Os preços dos produtos começam e R\\$ 39,90 até R\\$ 4999,00 e a média aparecem com R\\$ 164,90. Dentro da variedade de produtos que temos registrados, a maior parte deles têm preços próximos de R\\$ 974,63."
      ]
    }
  ],
  "metadata": {
    "colab": {
      "provenance": []
    },
    "kernelspec": {
      "display_name": ".venv",
      "language": "python",
      "name": "python3"
    },
    "language_info": {
      "codemirror_mode": {
        "name": "ipython",
        "version": 3
      },
      "file_extension": ".py",
      "mimetype": "text/x-python",
      "name": "python",
      "nbconvert_exporter": "python",
      "pygments_lexer": "ipython3",
      "version": "3.14.0"
    }
  },
  "nbformat": 4,
  "nbformat_minor": 0
}
