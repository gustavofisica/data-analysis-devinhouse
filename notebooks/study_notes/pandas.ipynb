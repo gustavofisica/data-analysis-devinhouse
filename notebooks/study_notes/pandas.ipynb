{
 "cells": [
  {
   "cell_type": "markdown",
   "id": "1a32e8b9",
   "metadata": {},
   "source": [
    "# Pandas - Notas de Estudo\n",
    "\n",
    "## O que é Pandas?\n",
    "<table style=\"border: none;\">\n",
    "<tr>\n",
    "<td width=\"246\" style=\"border: none;\">\n",
    "\n",
    "<img src=\"https://pandas.pydata.org/static/img/pandas_white.svg\" width=\"246\">\n",
    "\n",
    "</td>\n",
    "<td style=\"border: none;\">\n",
    "\n",
    "Pandas é uma biblioteca Python que fornece estruturas de dados rápidas, flexíveis e expressivas, projetadas para tornar o trabalho com dados \"relacionais\" ou \"rotulados\" fácil e intuitivo. Ela visa ser o bloco de construção fundamental de alto nível para análise de dados prática e do mundo real em Python.\n",
    "\n",
    "Pandas é construído sobre o NumPy e se integra bem com outras bibliotecas científicas de terceiros.\n",
    "\n",
    "</td>\n",
    "</tr>\n",
    "</table>\n",
    "\n",
    "## Instalação\n",
    "\n",
    "<table style=\"border: none;\">\n",
    "<tr>\n",
    "<td width=\"50%\" style=\"border: none;\">\n",
    "\n",
    "**Com pip:**\n",
    "\n",
    "```bash\n",
    "pip install pandas\n",
    "```\n",
    "\n",
    "</td>\n",
    "<td width=\"50%\" style=\"border: none;\">\n",
    "\n",
    "**Com conda:**\n",
    "\n",
    "```bash\n",
    "conda install pandas\n",
    "```\n",
    "\n",
    "</td>\n",
    "</tr>\n",
    "</table>\n",
    "\n",
    "## Importação\n",
    "\n",
    "Para usar o Pandas em seu código Python, importe-o convencionalmente como `pd`:\n",
    "\n",
    "```python\n",
    "import pandas as pd\n",
    "```"
   ]
  },
  {
   "cell_type": "code",
   "execution_count": 3,
   "id": "4db79de4",
   "metadata": {},
   "outputs": [],
   "source": [
    "# %pip install pandas\n",
    "\n",
    "import pandas as pd"
   ]
  },
  {
   "cell_type": "markdown",
   "id": "f1f17123",
   "metadata": {},
   "source": [
    "## Estruturas de Dados Principais\n",
    "\n",
    "Pandas possui duas estruturas de dados primárias:\n",
    "\n",
    "### 1. Series (1D)\n",
    "\n",
    "Array unidimensional rotulado e homogêneo - similar a uma coluna em uma planilha ou um vetor com índices.\n",
    "\n",
    "**Características:**\n",
    "- Pode conter qualquer tipo de dado (inteiros, strings, floats, objetos Python, etc.)\n",
    "- Possui um índice que rotula cada elemento\n",
    "- Suporta operações vetorizadas"
   ]
  },
  {
   "cell_type": "code",
   "execution_count": 4,
   "id": "c410322c",
   "metadata": {},
   "outputs": [
    {
     "name": "stdout",
     "output_type": "stream",
     "text": [
      "Series:\n",
      "a    0.5\n",
      "b   -1.2\n",
      "c    2.3\n",
      "d    1.8\n",
      "dtype: float64\n",
      "\n",
      "Tipo: <class 'pandas.core.series.Series'>\n"
     ]
    }
   ],
   "source": [
    "# Exemplo de criação de uma Series\n",
    "serie = pd.Series([0.5, -1.2, 2.3, 1.8], index=['a', 'b', 'c', 'd'])\n",
    "print(\"Series:\")\n",
    "print(serie)\n",
    "print(\"\\nTipo:\", type(serie))"
   ]
  },
  {
   "cell_type": "markdown",
   "id": "4efabd9c",
   "metadata": {},
   "source": [
    "### 2. DataFrame (2D)\n",
    "\n",
    "Estrutura tabular bidimensional rotulada e mutável em tamanho, com colunas potencialmente heterogêneas - similar a uma planilha Excel ou tabela SQL.\n",
    "\n",
    "**Características:**\n",
    "- Cada coluna é uma Series\n",
    "- Colunas podem ter tipos de dados diferentes\n",
    "- Possui índices para linhas e colunas\n",
    "- Permite manipulação, filtragem e análise de dados complexos"
   ]
  },
  {
   "cell_type": "code",
   "execution_count": 5,
   "id": "02efa27a",
   "metadata": {},
   "outputs": [
    {
     "name": "stdout",
     "output_type": "stream",
     "text": [
      "\n",
      "========================================\n",
      "DataFrame:\n",
      "   Col_A Col_B  Col_C\n",
      "0    1.0     A   True\n",
      "1    2.5     B  False\n",
      "2    3.2     C   True\n",
      "3    4.1     D  False\n",
      "\n",
      "Tipo: <class 'pandas.core.frame.DataFrame'>\n"
     ]
    }
   ],
   "source": [
    "# Exemplo de criação de um DataFrame\n",
    "dados = {\n",
    "    'Col_A': [1.0, 2.5, 3.2, 4.1],\n",
    "    'Col_B': ['A', 'B', 'C', 'D'],\n",
    "    'Col_C': [True, False, True, False]\n",
    "}\n",
    "df = pd.DataFrame(dados)\n",
    "print(\"\\n\" + \"=\"*40)\n",
    "print(\"DataFrame:\")\n",
    "print(df)\n",
    "print(\"\\nTipo:\", type(df))"
   ]
  },
  {
   "cell_type": "markdown",
   "id": "36056d9f",
   "metadata": {},
   "source": [
    "## Principais Funcionalidades\n",
    "\n",
    "Pandas é adequado para muitos tipos diferentes de dados:\n",
    "\n",
    "- Dados tabulares com colunas de tipos heterogêneos (como tabelas SQL ou planilhas Excel)\n",
    "- Dados de séries temporais ordenados e não ordenados\n",
    "- Dados de matriz arbitrários com rótulos de linha e coluna\n",
    "- Qualquer outro conjunto de dados observacionais/estatísticos\n",
    "\n",
    "### Recursos que Pandas faz bem:\n",
    "\n",
    "1. **Manipulação de dados ausentes**: Fácil tratamento de dados ausentes (NaN)\n",
    "2. **Mutabilidade de tamanho**: Colunas podem ser inseridas e excluídas de DataFrames\n",
    "3. **Alinhamento automático de dados**: Objetos podem ser alinhados automaticamente em computações\n",
    "4. **GroupBy poderoso**: Funcionalidade para realizar operações split-apply-combine\n",
    "5. **Fatiamento inteligente**: Fatiamento baseado em rótulos, indexação avançada e subconjuntos de grandes conjuntos de dados\n",
    "6. **Mesclagem e junção**: Merge e join intuitivos de conjuntos de dados\n",
    "7. **Remodelagem flexível**: Reshaping e pivoting de conjuntos de dados\n",
    "8. **Ferramentas de I/O robustas**: Carregamento de dados de arquivos CSV, Excel, bancos de dados e formato HDF5\n",
    "9. **Funcionalidade específica para séries temporais**: Geração de intervalos de datas, conversão de frequências, estatísticas de janelas móveis\n",
    "\n",
    "## Casos de Uso\n",
    "\n",
    "Pandas é ideal para todas as etapas do trabalho com dados:\n",
    "- Limpeza e preparação de dados (data munging)\n",
    "- Análise e modelagem de dados\n",
    "- Organização de resultados para visualização ou exibição tabular"
   ]
  }
 ],
 "metadata": {
  "kernelspec": {
   "display_name": ".venv",
   "language": "python",
   "name": "python3"
  },
  "language_info": {
   "codemirror_mode": {
    "name": "ipython",
    "version": 3
   },
   "file_extension": ".py",
   "mimetype": "text/x-python",
   "name": "python",
   "nbconvert_exporter": "python",
   "pygments_lexer": "ipython3",
   "version": "3.14.0"
  }
 },
 "nbformat": 4,
 "nbformat_minor": 5
}
